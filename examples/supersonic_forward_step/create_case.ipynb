{
 "cells": [
  {
   "cell_type": "code",
   "execution_count": 11,
   "metadata": {},
   "outputs": [],
   "source": [
    "import openfoamparser as ofp"
   ]
  },
  {
   "cell_type": "code",
   "execution_count": 12,
   "metadata": {},
   "outputs": [],
   "source": [
    "case = ofp.FoamMesh(\"of_polymesh/\")"
   ]
  },
  {
   "cell_type": "code",
   "execution_count": 13,
   "metadata": {},
   "outputs": [
    {
     "data": {
      "text/plain": [
       "{b'inlet': Boundary(type=b'patch', num=400, start=670600, id=-10),\n",
       " b'outlet': Boundary(type=b'patch', num=320, start=671000, id=-11),\n",
       " b'bottom': Boundary(type=b'symmetryPlane', num=200, start=671320, id=-12),\n",
       " b'top': Boundary(type=b'symmetryPlane', num=1000, start=671520, id=-13),\n",
       " b'obstacle': Boundary(type=b'patch', num=880, start=672520, id=-14),\n",
       " b'defaultFaces': Boundary(type=b'empty', num=672000, start=673400, id=-15)}"
      ]
     },
     "execution_count": 13,
     "metadata": {},
     "output_type": "execute_result"
    }
   ],
   "source": [
    "case.boundary"
   ]
  },
  {
   "cell_type": "code",
   "execution_count": 14,
   "metadata": {},
   "outputs": [],
   "source": [
    "# %%\n",
    "import os as os\n",
    "\n",
    "import case_creator as cc\n",
    "import numpy as np\n",
    "\n",
    "case_path = \"\"\n",
    "\n",
    "cc.initCase(case_path)\n",
    "mesh = cc.readOpenFoamMesh(\"of_polymesh\")\n",
    "cc.writeOpenFoamMesh(case_path, mesh)\n",
    "\n",
    "cc.writeFluidProperties(\n",
    "    case_path,\n",
    "    R=287.1,\n",
    "    gamma=1.4,\n",
    "    Pr=0.713,\n",
    "    c_p=1005,\n",
    "    c_v=717.5,\n",
    "    reference_p=1.0,\n",
    "    reference_v=1.0,\n",
    "    reference_T=1.0,\n",
    "    reference_mu=18.1e-6,\n",
    "    reference_k=1.0,\n",
    ")\n",
    "\n",
    "cc.writeSystemControls(\n",
    "    case_path,\n",
    "    n_threads=16,\n",
    "    save_every_n_steps=20,\n",
    "    n_sim_steps=20000,\n",
    "    time_integration_scheme=cc.TimeIntegrationScheme.exp_multi_rk_1_3,\n",
    "    use_local_time_stepping=False,\n",
    "    auto_calc_time_step=True,\n",
    "    dt=1.0,\n",
    "    cfl=1.0,\n",
    "    local_dt_C_factor=2.0,\n",
    "    limiter_type=cc.LimiterType.venkatakrishnan,\n",
    "    limiter_k_factor=1.0,\n",
    "    convective_flux_scheme=cc.ConvectiveFluxScheme.riemann_hllc,\n",
    "    viscous_flux_scheme=cc.ViscousFluxScheme.none,\n",
    ")\n",
    "\n",
    "p_init = 101325\n",
    "v_init = np.array([0.0, 0.0, 0.0], dtype=np.float64)\n",
    "T_init = 300\n",
    "\n",
    "cc.writeInitialConditions(\n",
    "    case_path,\n",
    "    mesh,\n",
    "    p_init,\n",
    "    v_init,\n",
    "    T_init,\n",
    ")"
   ]
  },
  {
   "cell_type": "code",
   "execution_count": 15,
   "metadata": {},
   "outputs": [],
   "source": [
    "bc_types = [\n",
    "    cc.BCType.inlet_supersonic,\n",
    "    cc.BCType.outlet_supersonic,\n",
    "    cc.BCType.wall_inviscid_heated,\n",
    "    cc.BCType.symmetry,\n",
    "    cc.BCType.symmetry,  \n",
    "    cc.BCType.symmetry,\n",
    "]\n",
    "\n",
    "bc_p_values = np.array([101325, 0, 0, 0, 0, 0], dtype=np.float64)\n",
    "bc_grad_p_normal_values = np.array([0, 0, 0, 0, 0, 0], dtype=np.float64)\n",
    "\n",
    "bc_T_values = np.array([300, 0, 0, 0, 0, 0], dtype=np.float64)\n",
    "bc_grad_T_normal_values = np.array([0, 0, 0, 0, 0, 0], dtype=np.float64)\n",
    "\n",
    "bc_v_values = np.array(\n",
    "    [\n",
    "        [1041.263, 0, 0],\n",
    "        [0, 0, 0],\n",
    "        [0, 0, 0],\n",
    "        [0, 0, 0],\n",
    "        [0, 0, 0],\n",
    "        [0, 0, 0],\n",
    "        [0, 0, 0],\n",
    "    ],\n",
    "    dtype=np.float64,\n",
    ")\n",
    "\n",
    "bc_grad_v_normal_values = np.array(\n",
    "    [\n",
    "        [0, 0, 0],\n",
    "        [0, 0, 0],\n",
    "        [0, 0, 0],\n",
    "        [0, 0, 0],\n",
    "        [0, 0, 0],\n",
    "        [0, 0, 0],\n",
    "        [0, 0, 0],\n",
    "    ],\n",
    "    dtype=np.float64,\n",
    ")\n",
    "\n",
    "cc.writeBoundaryConditions(\n",
    "    case_path,\n",
    "    bc_types,\n",
    "    bc_p_values,\n",
    "    bc_v_values,\n",
    "    bc_T_values,\n",
    "    bc_grad_p_normal_values,\n",
    "    bc_grad_v_normal_values,\n",
    "    bc_grad_T_normal_values,\n",
    ")"
   ]
  },
  {
   "cell_type": "code",
   "execution_count": null,
   "metadata": {},
   "outputs": [],
   "source": []
  }
 ],
 "metadata": {
  "kernelspec": {
   "display_name": "meng_env",
   "language": "python",
   "name": "python3"
  },
  "language_info": {
   "codemirror_mode": {
    "name": "ipython",
    "version": 3
   },
   "file_extension": ".py",
   "mimetype": "text/x-python",
   "name": "python",
   "nbconvert_exporter": "python",
   "pygments_lexer": "ipython3",
   "version": "3.11.9"
  }
 },
 "nbformat": 4,
 "nbformat_minor": 2
}
